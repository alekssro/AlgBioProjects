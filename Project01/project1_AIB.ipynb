{
 "cells": [
  {
   "cell_type": "markdown",
   "metadata": {},
   "source": [
    "# Implementing alignment with dynamic programming"
   ]
  },
  {
   "cell_type": "code",
   "execution_count": null,
   "metadata": {},
   "outputs": [],
   "source": [
    "#Implementing alignment with dynamic programming\n",
    "\n",
    "def seq_to_num(seq):\n",
    "    seq.upper()\n",
    "    for i in range(len(seq)):\n",
    "        if seq[i] == \"A\":\n",
    "            seq[i] = 1\n",
    "        if seq[i] == \"C\":\n",
    "            seq[i] = 2    \n",
    "        if seq[i] == \"G\":\n",
    "            seq[i] = 3\n",
    "        if seq[i] == \"T\":\n",
    "            seq[i] = 4\n",
    "\n",
    "#            \n",
    "N = [[10,2,5,2],[2,10,2,5],[5,2,10,2],[2,5,2,10]]\n",
    "\n",
    "def cost(i,j):\n",
    "    if T[i,j] == undef??:\n",
    "        v1 = v2 = v3 = v4 = None\n",
    "        if (i > 0) and (j > 0):\n",
    "            v1 = cost(i-1, j-1) + N[A[i],B[j]]\n",
    "        if (i > 0) and (j >= 0):\n",
    "            v = cost(i-1,j) + 1\n",
    "        if (i >= 0) and (j > 0):\n",
    "            v3 = \n",
    "    \n",
    "\n",
    "\n",
    "\n"
   ]
  },
  {
   "cell_type": "code",
   "execution_count": null,
   "metadata": {},
   "outputs": [],
   "source": [
    "func C(i,j):\n",
    "        if T[i,j] = undef then\n",
    "            v1 = v2 = v3 = v4 = undef\n",
    "            if (i > 0) and (j > 0) then\n",
    "                v1 = C(i-1, j-1) + c(A[i],B[j])\n",
    "            if (i > 0) and (j >= 0) then\n",
    "                v2 = C(i-1, j) + 1\n",
    "            if (i >= 0) and (j > 0) then\n",
    "                v3 = C(i, j-1) + 1\n",
    "            if (i = 0) and (j = 0) then\n",
    "                v4 = 0\n",
    "            T[i,j] = min(v1,v2,v3,v4)\n",
    "        endif\n",
    "        return T[i,j]\n",
    "end\n",
    "\n",
    "T[0..n][0..m] = undef\n",
    "\n",
    "print C(n,m)"
   ]
  },
  {
   "cell_type": "code",
   "execution_count": null,
   "metadata": {},
   "outputs": [],
   "source": []
  },
  {
   "cell_type": "code",
   "execution_count": null,
   "metadata": {},
   "outputs": [],
   "source": []
  },
  {
   "cell_type": "code",
   "execution_count": null,
   "metadata": {},
   "outputs": [],
   "source": []
  }
 ],
 "metadata": {
  "kernelspec": {
   "display_name": "Python 3",
   "language": "python",
   "name": "python3"
  },
  "language_info": {
   "codemirror_mode": {
    "name": "ipython",
    "version": 3
   },
   "file_extension": ".py",
   "mimetype": "text/x-python",
   "name": "python",
   "nbconvert_exporter": "python",
   "pygments_lexer": "ipython3",
   "version": "3.7.0"
  }
 },
 "nbformat": 4,
 "nbformat_minor": 2
}
